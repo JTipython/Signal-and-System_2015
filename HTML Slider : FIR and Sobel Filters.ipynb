{
 "cells": [
  {
   "cell_type": "code",
   "execution_count": 38,
   "metadata": {
    "collapsed": false
   },
   "outputs": [
    {
     "data": {
      "image/png": "iVBORw0KGgoAAAANSUhEUgAAA4EAAAJoCAYAAADYluQyAAAABHNCSVQICAgIfAhkiAAAAAlwSFlz\nAAALEgAACxIB0t1+/AAAIABJREFUeJzsnXfYHVW18H+TSkghIQmQBiEQOtIFFXSuCFIVFCxYUNBP\nLxawIqJXvV4VxfpZsOA1wif2jnT0iCJioXcSSAhpkJCQhJKEZH1/7Dl5z3tyypQ9s/fMrN/zvM/7\nzsyevVdWzpnZa6+yQVEURVEURVEURVEURVEURVEURVEURVEURVEURVEURVEURVEURVEURVEURVEU\nRVEURVEURVEURVEURVEURVEURVEURVEURVEURVEURenCG4CrCxgnBBYWMI6iKIqi5MkVwJsKGGcO\n8OkCxlEURVEsMh84soBxPglc2qfN4cDfgFXACuCvwMH5irUFIWoEKoqi1JG3AHcCTwFLgG8B2yS4\nfz7wUovyxOnvo8BDwBrMu+sn...(line truncated)...
      "text/plain": [
       "<matplotlib.figure.Figure at 0xe64fd70>"
      ]
     },
     "metadata": {},
     "output_type": "display_data"
    }
   ],
   "source": [
    "%matplotlib inline\n",
    "import numpy as np\n",
    "import matplotlib.pyplot as plt\n",
    "from IPython.html.widgets import interactive\n",
    "from IPython.display import display\n",
    "from scipy import signal\n",
    "\n",
    "lims = (-10.0,10.0,0.1)\n",
    "l_lims = (0, 30, 1)\n",
    "\n",
    "def plotfilter(d = 0, a = 1, l = 11):\n",
    "    ##### input signal ######\n",
    "    t = np.arange(0, 1, 0.001)\n",
    "    data = d + a*np.cos(2*np.pi*5*t)\n",
    "    fig = plt.figure(figsize=(15,10))\n",
    "    ax = fig.add_subplot(221)\n",
    "    #ax.hold(False)\n",
    "    plt.plot(data)\n",
    "    plt.title('Input Signal')\n",
    "    plt.grid()\n",
    "    \n",
    "    ##### magnitude and phase ######\n",
    "    #l = self.SetFilter()\n",
    "    w, h = signal.freqz(np.array([1] * l)/ float(l), 1, worN=np.linspace(-np.pi, np.pi, 1000))\n",
    "    mag = fig.add_subplot(223)\n",
    "    #mag.hold(False)\n",
    "    plt.plot(w, abs(h))\n",
    "    plt.xlabel('hat(w)')\n",
    "    plt.ylabel('Magnitude')\n",
    "    plt.title('Magnitude of the Filter')\n",
    "    plt.grid()\n",
    "    plt.xlim(np.min(w), np.max(w))\n",
    "\n",
    "    pha = fig.add_subplot(224)\n",
    "    #pha.hold(False)\n",
    "    plt.plot(w, np.angle(h))\n",
    "    plt.xlabel('hat(w)')\n",
    "    plt.ylabel('Phase(radians)')\n",
    "    plt.title('Phase of the Filter')\n",
    "    plt.grid()\n",
    "    plt.xlim(np.min(w), np.max(w))        \n",
    "    #self.canvas.draw()\n",
    "\n",
    "    ##### output signal ######\n",
    "    z = signal.convolve(data, h)\n",
    "    output = fig.add_subplot(222)\n",
    "    #output.hold(False)\n",
    "    plt.plot(z)\n",
    "    plt.title('Output Signal')\n",
    "    plt.grid()        \n",
    "    #self.canvas.draw()\n",
    "\n",
    "\n",
    "w=interactive(plotfilter, d = lims, a = lims, l = l_lims)\n",
    "display(w)"
   ]
  },
  {
   "cell_type": "code",
   "execution_count": 39,
   "metadata": {
    "collapsed": false
   },
   "outputs": [
    {
     "data": {
      "image/png": "iVBORw0KGgoAAAANSUhEUgAAAZgAAAE3CAYAAACXcVduAAAABHNCSVQICAgIfAhkiAAAAAlwSFlz\nAAALEgAACxIB0t1+/AAAIABJREFUeJzsnXlczen7/19nqdO+UVLak6RIIZQlZB+DGsoyY2QZYybb\nGDMfJGYwM/hYZoaxzuCjIhn7UpZBSiNJKoXQokLbaa/T6fr90bf3r+OcUydK4f18PK7Ho/O+t+v9\n7pxznfu+r/u6ABYWFhYWFhYWFhYWFhYWFhYWFhYWFhYWFhYWFhYWFhYWFhYWFhYWFhYWFhaWNs9I\nAMkAHgJY1sq6sLCwsLC8J/AAPAJgDkAJQByArq2pEAsLCwtL68Bt5v76oNbAPAUgAhAM4ONmHoOF\nhYWF5R2guQ2MMYCMeq8z/+8aCwsLC8sHBr+Z+6NmqsPCwsLC8u7AkXWxuWcwzwCY1HttgtpZDMsH\nCJfLhZ2dHTZs2IDMzEw4Ozu/...(line truncated)...
      "text/plain": [
       "<matplotlib.figure.Figure at 0xe0edd30>"
      ]
     },
     "metadata": {},
     "output_type": "display_data"
    }
   ],
   "source": [
    "%matplotlib inline\n",
    "import matplotlib.pyplot as plt\n",
    "import numpy as np\n",
    "from scipy.misc import lena\n",
    "import scipy.ndimage as nd\n",
    "import scipy.misc as misc\n",
    "from IPython.html.widgets import interactive\n",
    "from IPython.display import display\n",
    "\n",
    "#src_image = lena()\n",
    "src_image = misc.imread('X.jpg', 1)\n",
    "\n",
    "c_lims = (100,500,10)\n",
    "s_lims = (1, 10, 0.1)\n",
    "\n",
    "def plotfilter(canny = 255, sigma = 3):\n",
    "    sx = nd.sobel(src_image, axis=0)\n",
    "    sy = nd.sobel(src_image, axis=1)\n",
    "    sob = np.sqrt(sx*sx + sy*sy)\n",
    "    sobmfed = nd.median_filter((sob> canny * 0.5), sigma)\n",
    "    plt.figure(figsize=[15,5])\n",
    "    plt.imshow(sobmfed, cmap=plt.cm.gray)\n",
    "\n",
    "    \n",
    "w=interactive(plotfilter, canny = c_lims, sigma = s_lims)\n",
    "display(w)"
   ]
  },
  {
   "cell_type": "code",
   "execution_count": null,
   "metadata": {
    "collapsed": true
   },
   "outputs": [],
   "source": []
  }
 ],
 "metadata": {
  "kernelspec": {
   "display_name": "Python 2",
   "language": "python",
   "name": "python2"
  },
  "language_info": {
   "codemirror_mode": {
    "name": "ipython",
    "version": 2
   },
   "file_extension": ".py",
   "mimetype": "text/x-python",
   "name": "python",
   "nbconvert_exporter": "python",
   "pygments_lexer": "ipython2",
   "version": "2.7.6"
  }
 },
 "nbformat": 4,
 "nbformat_minor": 0
}
